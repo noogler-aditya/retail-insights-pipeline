{
 "cells": [
  {
   "cell_type": "code",
   "execution_count": 1,
   "id": "0c7a86cd",
   "metadata": {},
   "outputs": [
    {
     "name": "stdout",
     "output_type": "stream",
     "text": [
      "--- Manual Verification for P0572 in Patna ---\n",
      "Number of Transactions Found: 59\n",
      "Manually Calculated Total Sales: ₹820,270.86\n",
      "Manually Calculated Avg. Sales: ₹13,902.90\n",
      "\n",
      "--- Compare with Your Dashboard's Values ---\n"
     ]
    }
   ],
   "source": [
    "import pandas as pd\n",
    "\n",
    "# Load the original, raw 1-million-row CSV file\n",
    "raw_data_path = \"data/indian_retail_tier2_tier3.csv\"\n",
    "df = pd.read_csv(raw_data_path)\n",
    "\n",
    "# --- Let's verify the data for a specific product and city ---\n",
    "# Choose any combination you see in your dashboard\n",
    "city_to_check = \"Patna\"\n",
    "product_to_check = \"P0572\"\n",
    "\n",
    "# Filter the DataFrame to get ONLY the rows for this specific product and city\n",
    "subset = df[(df['StoreCity'] == city_to_check) & (df['ProductID'] == product_to_check)]\n",
    "\n",
    "# --- Now, perform the same calculations as Spark ---\n",
    "manual_total_sales = subset['TotalPrice'].sum()\n",
    "manual_avg_sales = subset['TotalPrice'].mean()\n",
    "transaction_count = len(subset)\n",
    "\n",
    "print(f\"--- Manual Verification for {product_to_check} in {city_to_check} ---\")\n",
    "print(f\"Number of Transactions Found: {transaction_count}\")\n",
    "print(f\"Manually Calculated Total Sales: ₹{manual_total_sales:,.2f}\")\n",
    "print(f\"Manually Calculated Avg. Sales: ₹{manual_avg_sales:,.2f}\")\n",
    "\n",
    "print(\"\\n--- Compare with Your Dashboard's Values ---\")\n",
    "# Find the values for this product/city in your dashboard or database to compare"
   ]
  }
 ],
 "metadata": {
  "kernelspec": {
   "display_name": "Python 3",
   "language": "python",
   "name": "python3"
  },
  "language_info": {
   "codemirror_mode": {
    "name": "ipython",
    "version": 3
   },
   "file_extension": ".py",
   "mimetype": "text/x-python",
   "name": "python",
   "nbconvert_exporter": "python",
   "pygments_lexer": "ipython3",
   "version": "3.9.6"
  }
 },
 "nbformat": 4,
 "nbformat_minor": 5
}
